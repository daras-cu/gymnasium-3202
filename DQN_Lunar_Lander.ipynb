{
  "nbformat": 4,
  "nbformat_minor": 0,
  "metadata": {
    "colab": {
      "provenance": [],
      "gpuType": "T4",
      "authorship_tag": "ABX9TyOdrZK92R0w0FCAyWTKkJGp",
      "include_colab_link": true
    },
    "kernelspec": {
      "name": "python3",
      "display_name": "Python 3"
    },
    "language_info": {
      "name": "python"
    },
    "accelerator": "GPU",
    "gpuClass": "standard"
  },
  "cells": [
    {
      "cell_type": "markdown",
      "metadata": {
        "id": "view-in-github",
        "colab_type": "text"
      },
      "source": [
        "<a href=\"https://colab.research.google.com/github/daras-cu/gymnasium-3202/blob/main/DQN_Lunar_Lander.ipynb\" target=\"_parent\"><img src=\"https://colab.research.google.com/assets/colab-badge.svg\" alt=\"Open In Colab\"/></a>"
      ]
    },
    {
      "cell_type": "code",
      "source": [
        "!pip install gymnasium\n",
        "!pip install matplotlib\n",
        "!pip install IPython\n",
        "!pip install swig\n",
        "!pip install gymnasium[box2d]"
      ],
      "metadata": {
        "id": "L0e5VQprj5rw",
        "colab": {
          "base_uri": "https://localhost:8080/"
        },
        "outputId": "f7c8693a-20a9-4c42-d89b-dabe9d5000e7"
      },
      "execution_count": 1,
      "outputs": [
        {
          "output_type": "stream",
          "name": "stdout",
          "text": [
            "Looking in indexes: https://pypi.org/simple, https://us-python.pkg.dev/colab-wheels/public/simple/\n",
            "Requirement already satisfied: gymnasium in /usr/local/lib/python3.10/dist-packages (0.28.1)\n",
            "Requirement already satisfied: numpy>=1.21.0 in /usr/local/lib/python3.10/dist-packages (from gymnasium) (1.22.4)\n",
            "Requirement already satisfied: jax-jumpy>=1.0.0 in /usr/local/lib/python3.10/dist-packages (from gymnasium) (1.0.0)\n",
            "Requirement already satisfied: cloudpickle>=1.2.0 in /usr/local/lib/python3.10/dist-packages (from gymnasium) (2.2.1)\n",
            "Requirement already satisfied: typing-extensions>=4.3.0 in /usr/local/lib/python3.10/dist-packages (from gymnasium) (4.5.0)\n",
            "Requirement already satisfied: farama-notifications>=0.0.1 in /usr/local/lib/python3.10/dist-packages (from gymnasium) (0.0.4)\n",
            "Looking in indexes: https://pypi.org/simple, https://us-python.pkg.dev/colab-wheels/public/simple/\n",
            "Requirement already satisfied: matplotlib in /usr/local/lib/python3.10/dist-packages (3.7.1)\n",
            "Requirement already satisfied: contourpy>=1.0.1 in /usr/local/lib/python3.10/dist-packages (from matplotlib) (1.0.7)\n",
            "Requirement already satisfied: cycler>=0.10 in /usr/local/lib/python3.10/dist-packages (from matplotlib) (0.11.0)\n",
            "Requirement already satisfied: fonttools>=4.22.0 in /usr/local/lib/python3.10/dist-packages (from matplotlib) (4.39.3)\n",
            "Requirement already satisfied: kiwisolver>=1.0.1 in /usr/local/lib/python3.10/dist-packages (from matplotlib) (1.4.4)\n",
            "Requirement already satisfied: numpy>=1.20 in /usr/local/lib/python3.10/dist-packages (from matplotlib) (1.22.4)\n",
            "Requirement already satisfied: packaging>=20.0 in /usr/local/lib/python3.10/dist-packages (from matplotlib) (23.1)\n",
            "Requirement already satisfied: pillow>=6.2.0 in /usr/local/lib/python3.10/dist-packages (from matplotlib) (8.4.0)\n",
            "Requirement already satisfied: pyparsing>=2.3.1 in /usr/local/lib/python3.10/dist-packages (from matplotlib) (3.0.9)\n",
            "Requirement already satisfied: python-dateutil>=2.7 in /usr/local/lib/python3.10/dist-packages (from matplotlib) (2.8.2)\n",
            "Requirement already satisfied: six>=1.5 in /usr/local/lib/python3.10/dist-packages (from python-dateutil>=2.7->matplotlib) (1.16.0)\n",
            "Looking in indexes: https://pypi.org/simple, https://us-python.pkg.dev/colab-wheels/public/simple/\n",
            "Requirement already satisfied: IPython in /usr/local/lib/python3.10/dist-packages (7.34.0)\n",
            "Requirement already satisfied: setuptools>=18.5 in /usr/local/lib/python3.10/dist-packages (from IPython) (67.7.2)\n",
            "Requirement already satisfied: jedi>=0.16 in /usr/local/lib/python3.10/dist-packages (from IPython) (0.18.2)\n",
            "Requirement already satisfied: decorator in /usr/local/lib/python3.10/dist-packages (from IPython) (4.4.2)\n",
            "Requirement already satisfied: pickleshare in /usr/local/lib/python3.10/dist-packages (from IPython) (0.7.5)\n",
            "Requirement already satisfied: traitlets>=4.2 in /usr/local/lib/python3.10/dist-packages (from IPython) (5.7.1)\n",
            "Requirement already satisfied: prompt-toolkit!=3.0.0,!=3.0.1,<3.1.0,>=2.0.0 in /usr/local/lib/python3.10/dist-packages (from IPython) (3.0.38)\n",
            "Requirement already satisfied: pygments in /usr/local/lib/python3.10/dist-packages (from IPython) (2.14.0)\n",
            "Requirement already satisfied: backcall in /usr/local/lib/python3.10/dist-packages (from IPython) (0.2.0)\n",
            "Requirement already satisfied: matplotlib-inline in /usr/local/lib/python3.10/dist-packages (from IPython) (0.1.6)\n",
            "Requirement already satisfied: pexpect>4.3 in /usr/local/lib/python3.10/dist-packages (from IPython) (4.8.0)\n",
            "Requirement already satisfied: parso<0.9.0,>=0.8.0 in /usr/local/lib/python3.10/dist-packages (from jedi>=0.16->IPython) (0.8.3)\n",
            "Requirement already satisfied: ptyprocess>=0.5 in /usr/local/lib/python3.10/dist-packages (from pexpect>4.3->IPython) (0.7.0)\n",
            "Requirement already satisfied: wcwidth in /usr/local/lib/python3.10/dist-packages (from prompt-toolkit!=3.0.0,!=3.0.1,<3.1.0,>=2.0.0->IPython) (0.2.6)\n",
            "Looking in indexes: https://pypi.org/simple, https://us-python.pkg.dev/colab-wheels/public/simple/\n",
            "Collecting swig\n",
            "  Using cached swig-4.1.1-py2.py3-none-manylinux_2_5_x86_64.manylinux1_x86_64.whl (1.8 MB)\n",
            "Installing collected packages: swig\n",
            "Successfully installed swig-4.1.1\n",
            "Looking in indexes: https://pypi.org/simple, https://us-python.pkg.dev/colab-wheels/public/simple/\n",
            "Requirement already satisfied: gymnasium[box2d] in /usr/local/lib/python3.10/dist-packages (0.28.1)\n",
            "Requirement already satisfied: numpy>=1.21.0 in /usr/local/lib/python3.10/dist-packages (from gymnasium[box2d]) (1.22.4)\n",
            "Requirement already satisfied: jax-jumpy>=1.0.0 in /usr/local/lib/python3.10/dist-packages (from gymnasium[box2d]) (1.0.0)\n",
            "Requirement already satisfied: cloudpickle>=1.2.0 in /usr/local/lib/python3.10/dist-packages (from gymnasium[box2d]) (2.2.1)\n",
            "Requirement already satisfied: typing-extensions>=4.3.0 in /usr/local/lib/python3.10/dist-packages (from gymnasium[box2d]) (4.5.0)\n",
            "Requirement already satisfied: farama-notifications>=0.0.1 in /usr/local/lib/python3.10/dist-packages (from gymnasium[box2d]) (0.0.4)\n",
            "Collecting box2d-py==2.3.5 (from gymnasium[box2d])\n",
            "  Using cached box2d-py-2.3.5.tar.gz (374 kB)\n",
            "  Preparing metadata (setup.py) ... \u001b[?25l\u001b[?25hdone\n",
            "Collecting pygame==2.1.3 (from gymnasium[box2d])\n",
            "  Using cached pygame-2.1.3-cp310-cp310-manylinux_2_17_x86_64.manylinux2014_x86_64.whl (13.7 MB)\n",
            "Requirement already satisfied: swig==4.* in /usr/local/lib/python3.10/dist-packages (from gymnasium[box2d]) (4.1.1)\n",
            "Building wheels for collected packages: box2d-py\n",
            "  Building wheel for box2d-py (setup.py) ... \u001b[?25l\u001b[?25hdone\n",
            "  Created wheel for box2d-py: filename=box2d_py-2.3.5-cp310-cp310-linux_x86_64.whl size=2812243 sha256=b303c802a5aeb3fc7c790dc47cde7664bd99fb5119fe4a31bfcf2ed025a442a0\n",
            "  Stored in directory: /root/.cache/pip/wheels/db/8f/6a/eaaadf056fba10a98d986f6dce954e6201ba3126926fc5ad9e\n",
            "Successfully built box2d-py\n",
            "Installing collected packages: box2d-py, pygame\n",
            "  Attempting uninstall: pygame\n",
            "    Found existing installation: pygame 2.3.0\n",
            "    Uninstalling pygame-2.3.0:\n",
            "      Successfully uninstalled pygame-2.3.0\n",
            "Successfully installed box2d-py-2.3.5 pygame-2.1.3\n"
          ]
        }
      ]
    },
    {
      "cell_type": "code",
      "source": [],
      "metadata": {
        "id": "TuQmliFj99Z5"
      },
      "execution_count": null,
      "outputs": []
    },
    {
      "cell_type": "markdown",
      "source": [
        "Code adapted from:\n",
        "https://pytorch.org/tutorials/intermediate/reinforcement_q_learning.html\n",
        "https://github.com/yuchen071/DQN-for-LunarLander-v2/blob/main/LunarLander.ipynb"
      ],
      "metadata": {
        "id": "l68R_ViM99vA"
      }
    },
    {
      "cell_type": "code",
      "execution_count": 2,
      "metadata": {
        "id": "tgE8dAhGjn-w"
      },
      "outputs": [],
      "source": [
        "import gymnasium as gym\n",
        "import numpy as np\n",
        "import matplotlib\n",
        "import matplotlib.pyplot as plt\n",
        "%matplotlib inline\n",
        "from IPython import display\n",
        "\n",
        "import random\n",
        "import math\n",
        "from collections import namedtuple, deque\n",
        "from itertools import count\n",
        "\n",
        "import torch\n",
        "import torch.nn as nn\n",
        "import torch.optim as optim\n",
        "import torch.nn.functional as F"
      ]
    },
    {
      "cell_type": "code",
      "source": [
        "# Named tuple to store info about transition after action is performed in state\n",
        "Transition = namedtuple('Transition', ('state', 'action', 'next', 'reward'))\n",
        "\n",
        "# Class to store memory of recent transitions to sample from for training\n",
        "class ReplayMemory(object):\n",
        "    def __init__(self, capacity):\n",
        "        self.memory = deque([], maxlen=capacity)\n",
        "        \n",
        "    def push(self, *args):\n",
        "        self.memory.append(Transition(*args))\n",
        "        \n",
        "    def sample(self, batch_size):\n",
        "        return random.sample(self.memory, batch_size)\n",
        "    \n",
        "    def __len__(self):\n",
        "        return len(self.memory)\n",
        "        "
      ],
      "metadata": {
        "id": "0g-WQ8i-kyOh"
      },
      "execution_count": 58,
      "outputs": []
    },
    {
      "cell_type": "code",
      "source": [
        "device = torch.device(\"cuda\" if torch.cuda.is_available() else \"cpu\")\n",
        "is_ipython = 'inline' in matplotlib.get_backend()\n",
        "if is_ipython:\n",
        "    from IPython import display"
      ],
      "metadata": {
        "id": "YMSeGjiklCvf"
      },
      "execution_count": 59,
      "outputs": []
    },
    {
      "cell_type": "code",
      "source": [
        "# Class for policy network\n",
        "class DQN(nn.Module):\n",
        "    \n",
        "    def __init__(self, n_observations, n_actions):\n",
        "      super(DQN, self).__init__()\n",
        "\n",
        "      self.layer1 = nn.Linear(n_observations, 64)\n",
        "      self.layer2 = nn.Linear(64, 64)\n",
        "      self.layer3 = nn.Linear(64, n_actions)\n",
        "\n",
        "    # Called with either one element to determine next action, or a batch\n",
        "    # during optimization\n",
        "    def forward(self, x):\n",
        "        x = F.relu(self.layer1(x))\n",
        "        x = F.relu(self.layer2(x))\n",
        "        return self.layer3(x)"
      ],
      "metadata": {
        "id": "hAyIHacml3ta"
      },
      "execution_count": 68,
      "outputs": []
    },
    {
      "cell_type": "code",
      "source": [
        "# Class for DQN Agent\n",
        "class QAgent():\n",
        "  # Initialize with parameters:\n",
        "  # n_obs, n_actions are number of possible state observations and actions\n",
        "  # batch_size is the number of transitions sampled from memory buffer\n",
        "  # gamme is the discount factor\n",
        "  # mem_size is the size of the memory buffer\n",
        "  # learn_step is the frequency the target network is updated\n",
        "  def __init__(self, n_obs, n_actions, batch_size=128, lr=1e-4, gamma=0.99, mem_size=10000, learn_step=5, tau=1e-3):\n",
        "    self.n_obs = n_obs\n",
        "    self.n_actions = n_actions\n",
        "    self.batch_size = batch_size\n",
        "    self.gamma = gamma\n",
        "    self.learn_step = learn_step\n",
        "    self.tau = tau\n",
        "\n",
        "    # Policy net is a DQN class object to store policy\n",
        "    # Target net is a copy of policy net which is periodically updated, used for training\n",
        "    self.policy_net = DQN(n_obs, n_actions).to(device)\n",
        "    self.target_net = DQN(n_obs, n_actions).to(device)\n",
        "\n",
        "    # Optimizer and criterion (SmoothL1Loss or MSELoss)\n",
        "    self.optimizer = optim.AdamW(self.policy_net.parameters(), lr=lr, amsgrad=True)\n",
        "    self.criterion = nn.SmoothL1Loss()\n",
        "\n",
        "    self.memory = ReplayMemory(mem_size)\n",
        "    self.episode_rewards = []\n",
        "    self.counter = 0\n",
        "\n",
        "  def select_action(self, state, epsilon):\n",
        "      \n",
        "      sample = random.random()\n",
        "      if sample > epsilon:\n",
        "        with torch.no_grad():\n",
        "            # t.max(1) will return the largest column value of each row.\n",
        "            # second column on max result is index of where max element was\n",
        "            # found, so we pick action with the larger expected reward.\n",
        "            return self.policy_net(state).max(1)[1].view(1, 1)\n",
        "      else:\n",
        "        return torch.tensor([[env.action_space.sample()]], device=device, dtype=torch.long)\n",
        "\n",
        "  def memory_add(self, state, action, next_state, reward):\n",
        "    self.memory.push(state, action, next_state, reward)\n",
        "\n",
        "    # Increment counter to run optimize model function every learn_step cycles\n",
        "    self.counter += 1\n",
        "    if self.counter % self.learn_step == 0:\n",
        "      if len(self.memory) >= self.batch_size:\n",
        "          self.optimize_model()\n",
        "\n",
        "  def plot_rewards(self, show_result=False):\n",
        "      plt.figure(1)\n",
        "      rewards_t = torch.tensor(self.episode_rewards, dtype=torch.float)\n",
        "      if show_result:\n",
        "          plt.title('Result')\n",
        "      else:\n",
        "          plt.clf()\n",
        "          plt.title('Training...')\n",
        "      plt.xlabel('Episode')\n",
        "      plt.ylabel('Reward')\n",
        "      plt.plot(rewards_t.numpy())\n",
        "      # Take 100 episode averages and plot them too\n",
        "      if len(rewards_t) >= 100:\n",
        "          means = rewards_t.unfold(0, 100, 1).mean(1).view(-1)\n",
        "          means = torch.cat((torch.zeros(99), means))\n",
        "          plt.plot(means.numpy())\n",
        "\n",
        "      plt.pause(0.001)  # pause a bit so that plots are updated\n",
        "      if is_ipython:\n",
        "          if not show_result:\n",
        "              display.display(plt.gcf())\n",
        "              display.clear_output(wait=True)\n",
        "          else:\n",
        "              display.display(plt.gcf())\n",
        "\n",
        "  def optimize_model(self):\n",
        "    # Check if there are enough transitions in memory to run a batch\n",
        "    if len(self.memory) < self.batch_size:\n",
        "        return\n",
        "    transitions = self.memory.sample(self.batch_size)\n",
        "    # Transpose the batch (see https://stackoverflow.com/a/19343/3343043 for\n",
        "    # detailed explanation). This converts batch-array of Transitions\n",
        "    # to Transition of batch-arrays.\n",
        "    batch = Transition(*zip(*transitions))\n",
        "\n",
        "    # Compute a mask of non-final states and concatenate the batch elements\n",
        "    # Final states' Q-values do not need to be estimated as they are equal to reward\n",
        "    non_final_mask = torch.tensor(tuple(map(lambda s: s is not None,\n",
        "                                          batch.next)), device=device, dtype=torch.bool)\n",
        "    non_final_next_states = torch.cat([s for s in batch.next\n",
        "                                                if s is not None])\n",
        "    \n",
        "    state_batch = torch.cat(batch.state)\n",
        "    action_batch = torch.cat(batch.action)\n",
        "    reward_batch = torch.cat(batch.reward)\n",
        "\n",
        "    # Compute Q(s_t, a) - \n",
        "    # Apply the policynet to state_batch then select the column of actions taken (index 1)\n",
        "    # state_action_values is a tensor containing the Q value estimate for each transition in the batch\n",
        "    state_action_values = self.policy_net(state_batch).gather(1, action_batch)\n",
        "\n",
        "    # Compute V(s_{t+1}) for all next states.\n",
        "    # Expected values of actions for non_final_next_states are computed based\n",
        "    # on the \"older\" target_net; selecting their best reward with max(1)[0].\n",
        "    # This is merged based on the mask, such that we'll have either the expected\n",
        "    # state value or 0 in case the state was final.\n",
        "    next_state_values = torch.zeros(self.batch_size, device=device)\n",
        "    with torch.no_grad():\n",
        "        next_state_values[non_final_mask] = self.target_net(non_final_next_states).max(1)[0]\n",
        "    # Compute the expected Q values\n",
        "    expected_state_action_values = (next_state_values * self.gamma) + reward_batch\n",
        "\n",
        "    # Compute Huber loss - unsqueeze used to match tensor dimensions\n",
        "    loss = self.criterion(state_action_values, expected_state_action_values.unsqueeze(1))\n",
        "\n",
        "    # Optimize the model\n",
        "    self.optimizer.zero_grad()\n",
        "    loss.backward()\n",
        "\n",
        "    # In-place gradient clipping\n",
        "    torch.nn.utils.clip_grad_value_(self.policy_net.parameters(), 100)\n",
        "    self.optimizer.step()\n",
        "\n",
        "    # Perform soft update\n",
        "    self.softUpdate()\n",
        "\n",
        "  def softUpdate(self):\n",
        "    # Soft update of the target network's weights\n",
        "    # θ′ ← τ θ + (1 −τ )θ′\n",
        "    target_net_state_dict = self.target_net.state_dict()\n",
        "    policy_net_state_dict = self.policy_net.state_dict()\n",
        "    for key in policy_net_state_dict:\n",
        "        target_net_state_dict[key] = policy_net_state_dict[key]*self.tau + target_net_state_dict[key]*(1-self.tau)\n",
        "    self.target_net.load_state_dict(target_net_state_dict)\n",
        "\n",
        "  "
      ],
      "metadata": {
        "id": "1k0RtF4LmIWf"
      },
      "execution_count": 61,
      "outputs": []
    },
    {
      "cell_type": "code",
      "source": [
        "def train(env, agent, num_episodes=1000, eps_start=0.9, eps_end=0.05, eps_decay=0.99, target=200):\n",
        "\n",
        "  epsilon = eps_start\n",
        "\n",
        "  for i_episode in range(num_episodes):\n",
        "    # Initialize the environment and get its state\n",
        "    state, info = env.reset()\n",
        "    state = torch.tensor(state, dtype=torch.float32, device=device).unsqueeze(0)\n",
        "    \n",
        "    ep_reward = 0\n",
        "    for t in count():\n",
        "      action = agent.select_action(state, epsilon)\n",
        "      observation, reward, terminated, truncated, _ = env.step(action.item())\n",
        "      ep_reward += reward\n",
        "      reward = torch.tensor([reward], device=device)\n",
        "      done = terminated or truncated\n",
        "\n",
        "      if terminated:\n",
        "        next_state = None\n",
        "      else:\n",
        "        next_state = torch.tensor(observation, dtype=torch.float32, device=device).unsqueeze(0)\n",
        "\n",
        "      agent.memory_add(state, action, next_state, reward)\n",
        "      # Move to the next state\n",
        "      state = next_state\n",
        "\n",
        "      if done:\n",
        "        agent.episode_rewards.append(ep_reward)\n",
        "        agent.plot_rewards()\n",
        "        break\n",
        "\n",
        "      \n",
        "\n",
        "      epsilon = max(eps_end, epsilon*eps_decay)\n",
        "\n",
        "  print('Complete')\n",
        "  agent.plot_rewards(show_result=True)\n",
        "  plt.ioff()\n",
        "  plt.show()"
      ],
      "metadata": {
        "id": "Th-wlxhImNWc"
      },
      "execution_count": 62,
      "outputs": []
    },
    {
      "cell_type": "code",
      "source": [
        "env = gym.make('LunarLander-v2')\n",
        "n_actions = env.action_space.n\n",
        "n_observations = env.observation_space.shape[0]\n",
        "agent = QAgent(n_actions=n_actions, n_obs=n_observations, batch_size=64, gamma=0.99)\n",
        "train(env, agent, num_episodes=5000)\n",
        "\n",
        "if str(device) == \"cuda\":\n",
        "    torch.cuda.empty_cache()"
      ],
      "metadata": {
        "colab": {
          "base_uri": "https://localhost:8080/",
          "height": 524
        },
        "id": "_7hIJi4CRzDf",
        "outputId": "4fd58df4-f9b6-4d10-b8d4-7f750fc9f760"
      },
      "execution_count": 70,
      "outputs": [
        {
          "output_type": "stream",
          "name": "stdout",
          "text": [
            "Complete\n"
          ]
        },
        {
          "output_type": "display_data",
          "data": {
            "text/plain": [
              "<Figure size 640x480 with 1 Axes>"
            ],
            "image/png": "[encoded data removed]"
          },
          "metadata": {}
        },
        {
          "output_type": "display_data",
          "data": {
            "text/plain": [
              "<Figure size 640x480 with 0 Axes>"
            ]
          },
          "metadata": {}
        },
        {
          "output_type": "display_data",
          "data": {
            "text/plain": [
              "<Figure size 640x480 with 0 Axes>"
            ]
          },
          "metadata": {}
        }
      ]
    },
    {
      "cell_type": "code",
      "source": [
        "def show_state(env, step=0, info=\"\"):\n",
        "    plt.figure(3)\n",
        "    plt.clf()\n",
        "    plt.imshow(env.render())\n",
        "    plt.title(\"%s | Step: %d %s\" % (env.spec.id,step, info))\n",
        "    plt.axis('off')\n",
        "\n",
        "    display.clear_output(wait=True)\n",
        "    display.display(plt.gcf())"
      ],
      "metadata": {
        "id": "fNSaogu_F8BK"
      },
      "execution_count": 72,
      "outputs": []
    },
    {
      "cell_type": "code",
      "source": [
        "env = gym.make('LunarLander-v2', render_mode='rgb_array')\n",
        "\n",
        "total_reward = 0.0\n",
        "total_steps = 0\n",
        "obs, _ = env.reset()\n",
        "\n",
        "while True:\n",
        "    action = agent.select_action(torch.tensor(obs, dtype=torch.float32, device=device).unsqueeze(0), epsilon=0)\n",
        "    print(action)\n",
        "    obs, reward, done, _, _ = env.step(action.item())\n",
        "    total_reward += reward\n",
        "    total_steps += 1\n",
        "    show_state(env,total_steps)\n",
        "    if done:\n",
        "        break\n",
        "\n",
        "print(\"Episode done in %d steps, total reward %.2f\" % (total_steps, total_reward))\n",
        "env.close()\n",
        "env.env.close()"
      ],
      "metadata": {
        "colab": {
          "base_uri": "https://localhost:8080/",
          "height": 406
        },
        "id": "akrX9-ZeorqH",
        "outputId": "daa89853-3815-485d-cc72-01f1881e5e5a"
      },
      "execution_count": 81,
      "outputs": [
        {
          "output_type": "display_data",
          "data": {
            "text/plain": [
              "<Figure size 640x480 with 1 Axes>"
            ],
            "image/png": "[encoded data removed]"
          },
          "metadata": {}
        },
        {
          "output_type": "stream",
          "name": "stdout",
          "text": [
            "Episode done in 325 steps, total reward 228.02\n"
          ]
        }
      ]
    },
    {
      "cell_type": "code",
      "source": [
        "import os\n",
        "import imageio\n",
        "from PIL import Image, ImageDraw, ImageFont\n",
        "\n",
        "def TextOnImg(img, score):\n",
        "    img = Image.fromarray(img)\n",
        "    draw = ImageDraw.Draw(img)\n",
        "    draw.text((20, 20), f\"Score={score: .2f}\", fill=(255, 255, 255))\n",
        "\n",
        "    return np.array(img)\n",
        "\n",
        "def save_frames_as_gif(frames, filename, path=\"gifs/\"):\n",
        "    if not os.path.exists(path):\n",
        "        os.makedirs(path)\n",
        "        \n",
        "    print(\"Saving gif...\", end=\"\")\n",
        "    imageio.mimsave(path + filename + \".gif\", frames, fps=60)\n",
        "\n",
        "    print(\"Done!\")\n",
        "\n",
        "def gym2gif(env, agent, filename=\"gym_animation\", loop=3):\n",
        "    frames = []\n",
        "    for i in range(loop):\n",
        "        obs, _ = env.reset()\n",
        "        score = 0\n",
        "        for idx_step in range(500):\n",
        "            frame = env.render()\n",
        "            frames.append(TextOnImg(frame, score))\n",
        "            action = agent.select_action(torch.tensor(obs, dtype=torch.float32, device=device).unsqueeze(0), epsilon=0)\n",
        "            obs, reward, done, _, _ = env.step(action.item())\n",
        "            score += reward\n",
        "            if done:\n",
        "                break\n",
        "    env.close()\n",
        "    save_frames_as_gif(frames, filename=filename)\n",
        "\n",
        "gym2gif(env, agent, loop=5)"
      ],
      "metadata": {
        "colab": {
          "base_uri": "https://localhost:8080/"
        },
        "id": "8xkWxlxYGjfY",
        "outputId": "d8250f55-7dd3-479d-f430-463780327d6d"
      },
      "execution_count": 86,
      "outputs": [
        {
          "output_type": "stream",
          "name": "stdout",
          "text": [
            "Saving gif...Done!\n"
          ]
        }
      ]
    }
  ]
}